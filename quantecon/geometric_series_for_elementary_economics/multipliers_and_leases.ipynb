{
 "cells": [
  {
   "cell_type": "markdown",
   "metadata": {},
   "source": [
    "Discussed:\n",
    "<p>\n",
    "Keynsian multiplier\n",
    "    <br>\n",
    "money multiplier used in fractional reserve systems\n",
    "    <br>\n",
    "interest rates and streams of payouts from assets\n",
    "</p>"
   ]
  },
  {
   "cell_type": "markdown",
   "metadata": {},
   "source": [
    "Geometric series:\n",
    "<br>\n",
    "Infinite:\n",
    "<br>\n",
    "1+c+c^2+c^3+...... = 1/(1-c)\n",
    "<br>\n",
    "Finite\n",
    "<br>\n",
    "1+c+c^2+c^3+......+c^T = (1-c^(T+1))/(1-c)"
   ]
  },
  {
   "cell_type": "markdown",
   "metadata": {},
   "source": [
    "<h2><strong>Money Multiplier</strong></h2>"
   ]
  },
  {
   "cell_type": "markdown",
   "metadata": {},
   "source": [
    "For a Bank:\n",
    "<br>\n",
    "Balance Sheet:\n",
    "<br>\n",
    "Loans + Reserves = Deposits => L + R = D => Assets = Liabilities\n",
    "<br>\n",
    "R = rD   Reserves = reserve ratio * Deposits"
   ]
  },
  {
   "cell_type": "markdown",
   "metadata": {},
   "source": [
    "\n",
    "Assume that Bank i's loans are immidiately deposited in Bank i+1. This leads to a relationship between bank i's loans and bank i+1's deposits as:\n",
    "\n",
    "$$ D_{i+1} = L_i$$\n",
    "\n",
    "implying that all of Bank i's debtors are bank i+1's creditors\n",
    "\n",
    "initial consition$$D_0$$ is the first deposit in the first bank"
   ]
  },
  {
   "cell_type": "markdown",
   "metadata": {},
   "source": [
    "This leads to the relationship \n",
    "<br>\n",
    "$$L_i = (1-r)*D_i$$\n",
    "<br>\n",
    "$$R_i = r*D_i$$\n",
    "<br>\n",
    "in english:\n",
    "<br>\n",
    "Bank i loans out all of the money deposited within it that it is not legally required to hold onto"
   ]
  },
  {
   "cell_type": "markdown",
   "metadata": {},
   "source": [
    "Remember that the Deposits in Bank i+1 are the same as the loans from Bank i implying:\n",
    "<br>\n",
    "$$D_{i+1} = (1-r)*D_i$$\n",
    "<br>\n",
    "This implies that:\n",
    "<br>\n",
    "$$D_i = (1-r)^iD_0$$\n",
    "<br>\n",
    "The deposits in bank i are $$(1-r)^i * InitialDeposit$$\n",
    "<br>\n",
    "i.e the initial deposit exponentially decays over the succession of banks at a rate $$(1-r)^i$$"
   ]
  },
  {
   "cell_type": "markdown",
   "metadata": {},
   "source": [
    "Therefore the sum of all funds in our banking system is the sum of all of the deposits within all of the banks (spoiler: it's greater than D_0 because who doesn't want to just create money)\n",
    "<br>\n",
    "sum((1-r)^iD_0) = D_0 x sum((1-r)^i) = (D_0)/r \n",
    "$$\\sum_{i=0}^{n} (1-r)^i*D_0 = D_0 * \\sum_{i=0}^{n} (1-r)^i = ...$$\n",
    "\n",
    "for an infinite number of banks\n",
    "$$\\frac{D_0}{r}$$\n",
    "\n",
    "for a finite number of banks, i\n",
    "$$\\frac{D_0*(1-(1-r)^{1+n})}{r}$$\n",
    "<br>\n",
    "using an infinite number of banks the initial deposit is scaled by $$\\frac{1}{r}$$\n",
    "\n",
    "This is how the money multiplier is derived to be $$\\frac{1}{r}$$\n",
    "\n",
    "The initial deposit $$D_0$$ is held as reserves and distributed as such:\n",
    "\n",
    "$$D_0 = \\sum_{i=0}^{n} R_i$$"
   ]
  },
  {
   "cell_type": "markdown",
   "metadata": {},
   "source": [
    "<h2><strong>Keynsian Multiplier</strong></h2>"
   ]
  },
  {
   "cell_type": "markdown",
   "metadata": {},
   "source": [
    "Consumption + investment = national income\n",
    "\n",
    "c + i = y\n",
    "\n",
    "consumption = a fraction of income\n",
    "\n",
    "c = b*y\n",
    "\n",
    "\n",
    "substituting in :\n",
    "$$i = (1-b) * y$$\n",
    "$$\\frac{1}{1-b}*i = y$$\n",
    "\n",
    "1/(1-b) is called the *investment multiplier* or the *multiplier*\n",
    "\n",
    "Using the geometric series formula:\n",
    "\n",
    "$$y = i * \\sum_{n=0}^{\\infty} b^n$$"
   ]
  },
  {
   "cell_type": "markdown",
   "metadata": {},
   "source": [
    "<h2><strong>Interest Rates</strong></h2>"
   ]
  },
  {
   "cell_type": "markdown",
   "metadata": {},
   "source": [
    "Nothing too crazy, if you have a 5% interest rate and invest x dollars initially and then reinvest all profits back into the process you end up with:\n",
    "$$x*(1.05)^n$$ dollars, where n is the time period from 0 to t\n",
    "\n",
    "The next sequence tell us how much future dollars are worth in terms of todays dollars with an inflation rate of 3% and an initial of x dollars\n",
    "$$x*(1.03)^{-n}$$\n",
    "$$=\\frac{x}{1.03*n}$$\n",
    "\n",
    "i.e x is successively depreciated by 3% every time step where n is the time period from 0 to t"
   ]
  },
  {
   "cell_type": "code",
   "execution_count": 1,
   "metadata": {},
   "outputs": [],
   "source": [
    "import matplotlib.pyplot as pt\n",
    "import numpy as np\n"
   ]
  },
  {
   "cell_type": "code",
   "execution_count": 16,
   "metadata": {},
   "outputs": [],
   "source": [
    "#calculate the presenta value of a lease, formula not above in LaTeX\n",
    "\n",
    "#true present value of a finite lease \n",
    "def finite_lease_pv (T, g, r, x_0):\n",
    "    G = 1+g\n",
    "    R = 1+r\n",
    "    return (x_0 * (1-G**(T+1) * R**(-T-1)))/(1- G * R**(-1))\n",
    "\n",
    "#infinite lease, gordon approximation\n",
    "def infinite_lease_gordon(g, r, x_0):\n",
    "    return x_0/(r-g)\n",
    "\n",
    "#infinite lease\n",
    "def infinite_lease(g, r, x_0):\n",
    "    G = 1+g\n",
    "    R = 1+r\n",
    "    return x_0 / (1 - G * R**(-1))\n",
    "\n",
    "#first order approximation of a finite lease\n",
    "def finite_lease_fo_approx(T, g, r, x_0):\n",
    "    p = x_0 * (T + 1) + x_0 * r * g * (T + 1) / (r - g)\n",
    "    return p\n",
    "\n",
    "#second order approximation of a finite lease\n",
    "def finite_lease_so_approx(T, g, r, x_0):\n",
    "    return (x_0 * (T+1))"
   ]
  },
  {
   "cell_type": "code",
   "execution_count": 5,
   "metadata": {},
   "outputs": [],
   "source": [
    "#time to compare, lets have a nice $1 lease\n",
    "g = .02\n",
    "r = .03\n",
    "x_0 = 1\n",
    "T_max = 100\n",
    "T = np.arange(0, T_max+1)\n"
   ]
  },
  {
   "cell_type": "code",
   "execution_count": 6,
   "metadata": {},
   "outputs": [
    {
     "data": {
      "text/plain": [
       "array([  0,   1,   2,   3,   4,   5,   6,   7,   8,   9,  10,  11,  12,\n",
       "        13,  14,  15,  16,  17,  18,  19,  20,  21,  22,  23,  24,  25,\n",
       "        26,  27,  28,  29,  30,  31,  32,  33,  34,  35,  36,  37,  38,\n",
       "        39,  40,  41,  42,  43,  44,  45,  46,  47,  48,  49,  50,  51,\n",
       "        52,  53,  54,  55,  56,  57,  58,  59,  60,  61,  62,  63,  64,\n",
       "        65,  66,  67,  68,  69,  70,  71,  72,  73,  74,  75,  76,  77,\n",
       "        78,  79,  80,  81,  82,  83,  84,  85,  86,  87,  88,  89,  90,\n",
       "        91,  92,  93,  94,  95,  96,  97,  98,  99, 100])"
      ]
     },
     "execution_count": 6,
     "metadata": {},
     "output_type": "execute_result"
    }
   ],
   "source": [
    "T"
   ]
  },
  {
   "cell_type": "code",
   "execution_count": 18,
   "metadata": {},
   "outputs": [
    {
     "data": {
      "image/png": "[encoded data removed]",
      "text/plain": [
       "<Figure size 432x288 with 1 Axes>"
      ]
     },
     "metadata": {
      "needs_background": "light"
     },
     "output_type": "display_data"
    }
   ],
   "source": [
    "fig, ax = pt.subplots()\n",
    "ax.set_title(\"Finite Lease Present Value T Periods Ahead\")\n",
    "y_1 = finite_lease_pv(T, g, r, x_0)\n",
    "y_2 = finite_lease_fo_approx(T, g, r, x_0)\n",
    "y_3 = finite_lease_so_approx(T, g, r, x_0)\n",
    "ax.plot(T, y_1, label=\"True T period lease Present Value\")\n",
    "ax.plot(T, y_2, label=\"First Order approximation of T period lease PV\")\n",
    "ax.plot(T, y_3, label=\"First Order approximation of T period lease PV\")\n",
    "ax.legend()\n",
    "ax.set_xlabel(\"T periods ahead\")\n",
    "ax.set_ylabel(\"Present Value\")\n",
    "pt.show()"
   ]
  },
  {
   "cell_type": "code",
   "execution_count": 27,
   "metadata": {},
   "outputs": [
    {
     "data": {
      "text/plain": [
       "Text(0, 0.5, 'Present Value')"
      ]
     },
     "execution_count": 27,
     "metadata": {},
     "output_type": "execute_result"
    },
    {
     "data": {
      "image/png": "[encoded data removed]",
      "text/plain": [
       "<Figure size 432x288 with 1 Axes>"
      ]
     },
     "metadata": {
      "needs_background": "light"
     },
     "output_type": "display_data"
    }
   ],
   "source": [
    "#convergence to the gordon approximation and the true infinite value\n",
    "T_max = 1000\n",
    "T = np.arange(0, T_max+1)\n",
    "fig, ax = pt.subplots()\n",
    "ax.set_title(\"Finite Time Period PV Convergence to Infinite amd Gordon Approximation\")\n",
    "y_1 = np.ones(T_max+1) * infinite_lease_gordon(g, r, x_0)\n",
    "y_2 = np.ones(T_max+1) * infinite_lease(g, r, x_0)\n",
    "y_3 = finite_lease_pv(T, g, r, x_0)\n",
    "ax.plot(T, y_1, '--', label=\"Gordon Approximation\")\n",
    "ax.plot(T, y_2, '--g', label=\"True Infinite Convergence\")\n",
    "ax.plot(T, y_3, label=\"Finite Time Period\")\n",
    "ax.legend()\n",
    "ax.set_xlabel(\"Time Period T\")\n",
    "ax.set_ylabel(\"Present Value\")"
   ]
  }
 ],
 "metadata": {
  "kernelspec": {
   "display_name": "Python 3",
   "language": "python",
   "name": "python3"
  },
  "language_info": {
   "codemirror_mode": {
    "name": "ipython",
    "version": 3
   },
   "file_extension": ".py",
   "mimetype": "text/x-python",
   "name": "python",
   "nbconvert_exporter": "python",
   "pygments_lexer": "ipython3",
   "version": "3.5.2"
  }
 },
 "nbformat": 4,
 "nbformat_minor": 2
}
