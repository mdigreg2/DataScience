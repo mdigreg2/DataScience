{
 "cells": [
  {
   "cell_type": "markdown",
   "metadata": {},
   "source": [
    "The following code is based off of an example from \"Hands On Machine Lerning with Skikit-Learn and Tensorflow\" by Aurelien Geron "
   ]
  },
  {
   "cell_type": "markdown",
   "metadata": {},
   "source": [
    "It will be a model to predict housing prices in california \n",
    "\n",
    "Checklist:\n",
    "Supervised Learning (labelled data - district, other housing prices, population, etc...)\n",
    "\n",
    "Can do batch learning (Doesn't need to be updated on the fly, Cali's housing market isnt THAT dynamic)\n",
    "\n",
    "It is a regression task, specifically multiple regression(it's simple enough to me modeled without a neural network and there are a set number of variables that really impact housing price. It also changes in a reasonably predictable way)\n",
    "\n"
   ]
  }
 ],
 "metadata": {
  "kernelspec": {
   "display_name": "Python 3",
   "language": "python",
   "name": "python3"
  },
  "language_info": {
   "codemirror_mode": {
    "name": "ipython",
    "version": 3
   },
   "file_extension": ".py",
   "mimetype": "text/x-python",
   "name": "python",
   "nbconvert_exporter": "python",
   "pygments_lexer": "ipython3",
   "version": "3.7.1"
  }
 },
 "nbformat": 4,
 "nbformat_minor": 2
}
