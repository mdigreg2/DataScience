{
 "cells": [
  {
   "cell_type": "markdown",
   "metadata": {},
   "source": [
    "<p>NumPy was developed to perform fast array processing. If we want to create an array of 1million random draws for a uniform distribution and compute the mean and it was done in pure python, it would be hugely slower than a C or Fortran program. Loops o ver python data types like lists carry significant overhead and C anf Fortran contain a lot of type information which can be used for optimization. NumPy generates optimized snippets of machine code compiled from C to speed up specific operations past what python alone could handle. Similar in spirit to Matlab. NumPy is great for operations that are naturally vectorized</p>"
   ]
  },
  {
   "cell_type": "markdown",
   "metadata": {},
   "source": [
    "<h3>NumPy Arrays</h3>"
   ]
  },
  {
   "cell_type": "code",
   "execution_count": 7,
   "metadata": {},
   "outputs": [
    {
     "name": "stdout",
     "output_type": "stream",
     "text": [
      "[0. 0. 0.]\n",
      "<class 'numpy.ndarray'>\n",
      "<class 'numpy.float64'>\n",
      "<class 'numpy.int64'>\n"
     ]
    }
   ],
   "source": [
    "# NumPy formally defines an array data type called numpy.ndarray\n",
    "# Similar to native python lists except you can only use one data type and it must be one of the dtypes provided by NumPy\n",
    "import numpy as np\n",
    "\n",
    "# np.zeros(n) generates a list of n zeros\n",
    "a = np.zeros(3)\n",
    "print(a)\n",
    "print(type(a))\n",
    "\n",
    "# The default data type on modern machines is float64\n",
    "\n",
    "print(type(a[0]))\n",
    "\n",
    "# We can specify the data type when we initialize the array\n",
    "\n",
    "b = np.zeros(3, dtype = int)\n",
    "\n",
    "print(type(b[0]))"
   ]
  },
  {
   "cell_type": "markdown",
   "metadata": {},
   "source": [
    "<h3>ndarrays can also have a shape</h3>"
   ]
  },
  {
   "cell_type": "code",
   "execution_count": 16,
   "metadata": {},
   "outputs": [
    {
     "name": "stdout",
     "output_type": "stream",
     "text": [
      "(10,)\n",
      "\n",
      "\n",
      "[[0.]\n",
      " [0.]\n",
      " [0.]\n",
      " [0.]\n",
      " [0.]\n",
      " [0.]\n",
      " [0.]\n",
      " [0.]\n",
      " [0.]\n",
      " [0.]]\n",
      "\n",
      "\n",
      "[[0. 0.]\n",
      " [0. 0.]]\n",
      "\n",
      "\n",
      "[[0. 0. 0.]\n",
      " [0. 0. 0.]\n",
      " [0. 0. 0.]]\n"
     ]
    }
   ],
   "source": [
    "import numpy as np\n",
    "\n",
    "\n",
    "# Here, z is a flat array with no dimension, neither a row nor a column vector\n",
    "# The shape touple has only one element, the length of the array. To give the array a dimension we can change the\n",
    "# shape attribute\n",
    "\n",
    "z = np.zeros(10)\n",
    "print(z.shape)\n",
    "print('\\n')\n",
    "\n",
    "y = np.zeros(10)\n",
    "y.shape = (10,1)    #rows,columns\n",
    "print(y)\n",
    "print('\\n')\n",
    "\n",
    "x = np.zeros(4)\n",
    "x.shape = (2,2)\n",
    "print(x)\n",
    "print('\\n')\n",
    "\n",
    "w = np.zeros((3,3)) #Shape can also be specified with a touple when initializing the array\n",
    "print(w)"
   ]
  },
  {
   "cell_type": "code",
   "execution_count": 27,
   "metadata": {},
   "outputs": [
    {
     "name": "stdout",
     "output_type": "stream",
     "text": [
      "[[1. 1.]\n",
      " [1. 1.]]\n",
      "\n",
      "\n",
      "[[0. 0. 0.]\n",
      " [0. 0. 0.]\n",
      " [0. 0. 0.]]\n",
      "\n",
      "\n",
      "[2.  2.5 3.  3.5 4. ]\n",
      "\n",
      "\n",
      "[[1. 0.]\n",
      " [0. 1.]]\n",
      "\n",
      "\n",
      "[10 20]\n",
      "<class 'numpy.ndarray'>\n",
      "[10. 20.]\n",
      "<class 'numpy.ndarray'>\n",
      "\n",
      "\n",
      "[[10 20]\n",
      " [30 40]]\n"
     ]
    }
   ],
   "source": [
    "# np.ones() creates an array populated by what you would expect\n",
    "z = np.ones((2,2))\n",
    "print(z)\n",
    "print('\\n')\n",
    "\n",
    "# np.empty creates an array which can later be populated, the numbers that are output initially are garbage values\n",
    "y = np.empty((3,3))\n",
    "print(y)\n",
    "print('\\n')\n",
    "\n",
    "# To set up a grid of evenly spaced numbers use np.linspace\n",
    "\n",
    "x = np.linspace(2,4,5)   #from 2 to 4 with 5 elements\n",
    "print(x)\n",
    "print('\\n')\n",
    "\n",
    "# To create an identity matrix use np.identity or np.eye\n",
    "w = np.identity(2)\n",
    "print(w)\n",
    "print('\\n')\n",
    "\n",
    "# NumPy arrays can also be created from python lists, touples, etc.. using np.array\n",
    "v = np.array([10,20])    # ndarray from a python list\n",
    "print(v)\n",
    "print(type(v))\n",
    "\n",
    "u = np.array((10,20), dtype = float)    # here, 'float' is equivalent to float64\n",
    "print(u)\n",
    "print(type(u))\n",
    "print('\\n')\n",
    "\n",
    "t = np.array([[10,20], [30,40]])    #here, a 2D array is created from a list of lists\n",
    "print(t)"
   ]
  },
  {
   "cell_type": "code",
   "execution_count": 3,
   "metadata": {},
   "outputs": [
    {
     "name": "stdout",
     "output_type": "stream",
     "text": [
      "True\n",
      "False\n"
     ]
    }
   ],
   "source": [
    "# check out np.asarray which is similar but does not make a sictinct copy of data already in NumPy\n",
    "import numpy as np\n",
    "na = np.linspace(10,20,2)\n",
    "print(na is np.asarray(na))      # does not make a copy of the NumPy arrays\n",
    "print(na is np.array(na))        #does copy the data   -----   perhaps unnecesarily"
   ]
  },
  {
   "cell_type": "markdown",
   "metadata": {},
   "source": [
    "<h3>to read array data from a text file containing numeric arrays use np.loadtxt or np.genfromtxt</h3>"
   ]
  },
  {
   "cell_type": "code",
   "execution_count": 48,
   "metadata": {},
   "outputs": [
    {
     "name": "stdout",
     "output_type": "stream",
     "text": [
      "[[1 2]\n",
      " [3 4]]\n",
      "1\n",
      "4\n",
      "2\n",
      "3\n",
      "[[1 2]\n",
      " [3 4]]\n",
      "[1 2]\n",
      "[3 4]\n",
      "[[3 4]]\n",
      "[2 4]\n",
      "[[1 2]]\n"
     ]
    }
   ],
   "source": [
    "#for a flat array, indexing is the same as python sequences\n",
    "\n",
    "# for 2D arrays it's like a matrix / cartesian grid\n",
    "\n",
    "z = np.array([[1,2],[3,4]])\n",
    "print(z)\n",
    "print(z[0,0])\n",
    "print(z[1,1])\n",
    "print(z[0,1])\n",
    "print(z[1,0])\n",
    "\n",
    "\n",
    "# rows and columns can be extracted as follows\n",
    "print(z[0:])\n",
    "print(z[0,:])\n",
    "print(z[1,:])\n",
    "print(z[1:])\n",
    "print(z[:,1])\n",
    "print(z[:1])"
   ]
  },
  {
   "cell_type": "code",
   "execution_count": 25,
   "metadata": {},
   "outputs": [
    {
     "name": "stdout",
     "output_type": "stream",
     "text": [
      "[2.  2.5 3.  3.5 4. ]\n",
      "[2.  3.  3.5]\n",
      "[False  True  True False False]\n",
      "[2.5 3. ]\n",
      "the following are garbage values in z\n",
      "[2.  3.  3.5]\n",
      "these are reinitialized\n",
      "[42. 42. 42.]\n"
     ]
    }
   ],
   "source": [
    "# arrays can also be used to extract indices  in this case 0, 1, 2\n",
    "import numpy as np\n",
    "z = np.linspace(2,4,5)\n",
    "print(z)\n",
    "\n",
    "indices = np.array((0,2,3))\n",
    "print(z[indices])\n",
    "d = np.array([0,1,1,0,0], dtype = bool)\n",
    "print(d)\n",
    "print(z[d])\n",
    "z = np.empty(3)\n",
    "print(\"the following are garbage values in z\")\n",
    "print(z)\n",
    "z[:]=42\n",
    "print(\"these are reinitialized\")\n",
    "print(z)"
   ]
  },
  {
   "cell_type": "code",
   "execution_count": 37,
   "metadata": {},
   "outputs": [
    {
     "name": "stdout",
     "output_type": "stream",
     "text": [
      "[1 2 3 4]\n",
      "10\n",
      "2.5\n",
      "4\n",
      "3\n",
      "[ 1  3  6 10]\n",
      "[ 1  2  6 24]\n",
      "1.25\n",
      "1.118033988749895\n",
      "[[1 3]\n",
      " [2 4]]\n",
      "3\n",
      "10\n",
      "2.5\n"
     ]
    }
   ],
   "source": [
    "import numpy as np\n",
    "a = np.array((4,1,2,3))\n",
    "a.sort()\n",
    "print(a)\n",
    "print(a.sum())      #sum of the elements\n",
    "print(a.mean())     #mean\n",
    "print(a.max())      #max\n",
    "print(a.argmax())   #index of the maximal element\n",
    "print(a.cumsum())   #Cumulative sum of the elements in a\n",
    "print(a.cumprod())  #Cumulative product of the elements\n",
    "print(a.var())      #Variance\n",
    "print(a.std())      #Standard Deviation\n",
    "\n",
    "a.shape = (2,2)\n",
    "print(a.T)                 #equivalent to a.transpose()\n",
    "z = np.linspace(2,4,5)\n",
    "print(z.searchsorted(3.5))   #returns the index of the first number >= 2\n",
    "\n",
    "\n",
    "# many of the above methods have equivalent functions in the numpy namespace\n",
    "print(np.sum(a))\n",
    "print(np.mean(a))"
   ]
  },
  {
   "cell_type": "code",
   "execution_count": 50,
   "metadata": {},
   "outputs": [
    {
     "name": "stdout",
     "output_type": "stream",
     "text": [
      "[ 6  8 10 12]\n",
      "[ 5 12 21 32]\n",
      "[11 12 13 14]\n",
      "[13 14]\n",
      "[ 1  2 13 14]\n",
      "[1 2 3 4]\n",
      "[10 20 30 40]\n",
      "[[1. 1.]\n",
      " [1. 1.]]\n",
      "[[2. 2.]\n",
      " [2. 2.]]\n",
      "[[11. 11.]\n",
      " [11. 11.]]\n",
      "[[1. 1.]\n",
      " [1. 1.]]\n",
      "[[ 1. 10.]\n",
      " [ 1. 10.]]\n"
     ]
    }
   ],
   "source": [
    "import numpy as np\n",
    "\n",
    "a = np.array([1,2,3,4])\n",
    "b = np.array((5,6,7,8))\n",
    "print(a+b)                 #can add\n",
    "print(a*b)                 #can multiply\n",
    "print(a + 10)              #can add a scalar to each element in an array\n",
    "print(a[2:] + 10)\n",
    "a[2:] += 10                #can add a scalar to some elements in an array\n",
    "print(a)\n",
    "a[2:] -= 10\n",
    "print(a)\n",
    "                           #scalar multiplication is similar\n",
    "print(a * 10)\n",
    "\n",
    "# 2D arrays work in a very similar way\n",
    "A = np.ones((2,2))\n",
    "B = np.ones((2,2))\n",
    "print(A)\n",
    "print(A+B)\n",
    "print(A+10)\n",
    "print(A*B)\n",
    "A[:,1] *= 10\n",
    "print(A)\n",
    "A[:,1] /= 10"
   ]
  }
 ],
 "metadata": {
  "kernelspec": {
   "display_name": "Python 3",
   "language": "python",
   "name": "python3"
  },
  "language_info": {
   "codemirror_mode": {
    "name": "ipython",
    "version": 3
   },
   "file_extension": ".py",
   "mimetype": "text/x-python",
   "name": "python",
   "nbconvert_exporter": "python",
   "pygments_lexer": "ipython3",
   "version": "3.7.3"
  }
 },
 "nbformat": 4,
 "nbformat_minor": 2
}
