{
 "cells": [
  {
   "cell_type": "markdown",
   "metadata": {},
   "source": [
    "<h3>Note, for integer division in python, use // </h3>"
   ]
  },
  {
   "cell_type": "code",
   "execution_count": 12,
   "metadata": {},
   "outputs": [
    {
     "data": {
      "text/plain": [
       "0"
      ]
     },
     "execution_count": 12,
     "metadata": {},
     "output_type": "execute_result"
    }
   ],
   "source": [
    "1//2"
   ]
  },
  {
   "cell_type": "markdown",
   "metadata": {},
   "source": [
    "<h3>complex numbers are also readily implemented in python</h3>"
   ]
  },
  {
   "cell_type": "code",
   "execution_count": 11,
   "metadata": {},
   "outputs": [
    {
     "data": {
      "text/plain": [
       "5j"
      ]
     },
     "execution_count": 11,
     "metadata": {},
     "output_type": "execute_result"
    }
   ],
   "source": [
    "x = complex(1,2)\n",
    "y = complex(2,1)\n",
    "x*y\n",
    "\n",
    "# (1*2 + 1*j) + (2j*2 + 2j*j)\n",
    "# 2 + j + 4j -2 = 5j"
   ]
  },
  {
   "cell_type": "markdown",
   "metadata": {},
   "source": [
    "<h3>Note, in python touples are immutable lists delinated by () or no brackets</h3>"
   ]
  },
  {
   "cell_type": "code",
   "execution_count": 13,
   "metadata": {},
   "outputs": [
    {
     "name": "stdout",
     "output_type": "stream",
     "text": [
      "<class 'tuple'>\n",
      "<class 'tuple'>\n"
     ]
    }
   ],
   "source": [
    "x = ('a', 'b')\n",
    "y = \"a\", \"b\"\n",
    "print(type(x))\n",
    "print(type(y))"
   ]
  },
  {
   "cell_type": "code",
   "execution_count": 6,
   "metadata": {},
   "outputs": [
    {
     "name": "stdout",
     "output_type": "stream",
     "text": [
      "[0, 30]\n"
     ]
    }
   ],
   "source": [
    "x = [0,12]\n",
    "x[1] = 30\n",
    "print(x)"
   ]
  },
  {
   "cell_type": "code",
   "execution_count": 7,
   "metadata": {},
   "outputs": [
    {
     "ename": "TypeError",
     "evalue": "'tuple' object does not support item assignment",
     "output_type": "error",
     "traceback": [
      "\u001b[0;31m---------------------------------------------------------------------------\u001b[0m",
      "\u001b[0;31mTypeError\u001b[0m                                 Traceback (most recent call last)",
      "\u001b[0;32m<ipython-input-7-0dc34076b07c>\u001b[0m in \u001b[0;36m<module>\u001b[0;34m\u001b[0m\n\u001b[1;32m      1\u001b[0m \u001b[0mx\u001b[0m \u001b[0;34m=\u001b[0m \u001b[0;36m0\u001b[0m\u001b[0;34m,\u001b[0m \u001b[0;36m12\u001b[0m\u001b[0;34m\u001b[0m\u001b[0;34m\u001b[0m\u001b[0m\n\u001b[0;32m----> 2\u001b[0;31m \u001b[0mx\u001b[0m\u001b[0;34m[\u001b[0m\u001b[0;36m1\u001b[0m\u001b[0;34m]\u001b[0m \u001b[0;34m=\u001b[0m \u001b[0;36m30\u001b[0m\u001b[0;34m\u001b[0m\u001b[0;34m\u001b[0m\u001b[0m\n\u001b[0m\u001b[1;32m      3\u001b[0m \u001b[0mprint\u001b[0m\u001b[0;34m(\u001b[0m\u001b[0mx\u001b[0m\u001b[0;34m)\u001b[0m\u001b[0;34m\u001b[0m\u001b[0;34m\u001b[0m\u001b[0m\n",
      "\u001b[0;31mTypeError\u001b[0m: 'tuple' object does not support item assignment"
     ]
    }
   ],
   "source": [
    "x = 0, 12\n",
    "x[1] = 30\n",
    "print(x)"
   ]
  },
  {
   "cell_type": "markdown",
   "metadata": {},
   "source": [
    "<h3>Touples can also be unpacked</h3>"
   ]
  },
  {
   "cell_type": "code",
   "execution_count": 14,
   "metadata": {},
   "outputs": [
    {
     "name": "stdout",
     "output_type": "stream",
     "text": [
      "10\n",
      "20\n",
      "30\n"
     ]
    }
   ],
   "source": [
    "integers = (10,20,30)\n",
    "x,y,z = integers\n",
    "print(x)\n",
    "print(y)\n",
    "print(z)"
   ]
  },
  {
   "cell_type": "markdown",
   "metadata": {},
   "source": [
    "<h3>a[m:n] returns n-m elements starting at m\n",
    "<br>prints m -> n inclusive</h3>"
   ]
  },
  {
   "cell_type": "code",
   "execution_count": 20,
   "metadata": {},
   "outputs": [
    {
     "name": "stdout",
     "output_type": "stream",
     "text": [
      "bcdefghijklmnopqrstuvwxyz\n",
      "bcdefghij\n",
      "z\n",
      "qrstuvwxy\n"
     ]
    }
   ],
   "source": [
    "a = 'abcdefghijklmnopqrstuvwxyz'\n",
    "print(a[1:])\n",
    "print(a[1:10])\n",
    "print(a[-1:])\n",
    "print(a[-10:-1])"
   ]
  },
  {
   "cell_type": "markdown",
   "metadata": {},
   "source": [
    "<h3>Dictionaries!</h3>\n",
    "<p>name and age are the keys, the objects the keys are mapped to are values</p>"
   ]
  },
  {
   "cell_type": "code",
   "execution_count": 21,
   "metadata": {},
   "outputs": [
    {
     "name": "stdout",
     "output_type": "stream",
     "text": [
      "19\n"
     ]
    }
   ],
   "source": [
    "d = {'name': 'Michael', 'age' : 19}\n",
    "print(d['age'])"
   ]
  },
  {
   "cell_type": "markdown",
   "metadata": {},
   "source": [
    "<h3>Sets!</h3>"
   ]
  },
  {
   "cell_type": "code",
   "execution_count": 34,
   "metadata": {},
   "outputs": [
    {
     "name": "stdout",
     "output_type": "stream",
     "text": [
      "{'b'}\n",
      "False\n",
      "{'c', 'b', 'a'}\n",
      "{'c', 'b', 'a'}\n",
      "{'b', 1, 2, 'a', 3, 'c'}\n",
      "{'hae', 'mic', 'l'}\n",
      "{'b', 'a'}\n"
     ]
    }
   ],
   "source": [
    "s1 = {'a', 'b'}\n",
    "s2 = {'b', 'c'}\n",
    "s3 = {1, 2, 3}\n",
    "s4 = set(('a', 'b', 'a'))\n",
    "print(s2.intersection(s1))\n",
    "print(s2.issubset(s1))\n",
    "print(s2.union(s1))\n",
    "print(s1.union(s2))\n",
    "print(s1.union(s2, s3))\n",
    "print(set(('mic', 'hae', 'l')))\n",
    "print(s4)"
   ]
  },
  {
   "cell_type": "markdown",
   "metadata": {},
   "source": [
    "<h3>Input and Output</h3>"
   ]
  },
  {
   "cell_type": "code",
   "execution_count": 35,
   "metadata": {},
   "outputs": [],
   "source": [
    "# opens a new text file for writing\n",
    "f = open('newfile.txt', 'w')\n",
    "f.write('Test\\n')\n",
    "f.write('Test 2\\n')\n",
    "f.close()"
   ]
  },
  {
   "cell_type": "code",
   "execution_count": 36,
   "metadata": {},
   "outputs": [
    {
     "data": {
      "text/plain": [
       "'/home/mycicle/git/DataScience/pythonProjects'"
      ]
     },
     "execution_count": 36,
     "metadata": {},
     "output_type": "execute_result"
    }
   ],
   "source": [
    "%pwd"
   ]
  },
  {
   "cell_type": "code",
   "execution_count": 37,
   "metadata": {},
   "outputs": [
    {
     "name": "stdout",
     "output_type": "stream",
     "text": [
      "introductionToPython.ipynb  newfile.txt  pythonEssentials.ipynb\r\n"
     ]
    }
   ],
   "source": [
    "%ls\n"
   ]
  },
  {
   "cell_type": "code",
   "execution_count": 49,
   "metadata": {},
   "outputs": [
    {
     "name": "stdout",
     "output_type": "stream",
     "text": [
      "Test\n",
      "Test 2\n",
      "\n"
     ]
    }
   ],
   "source": [
    "f = open('newfile.txt', 'r')\n",
    "content = f.read()\n",
    "f.close()\n",
    "print(content)\n",
    "# if you don't use a print statement you will get \"Test\\nTest 2\\n\"\n",
    "# as an output\n",
    "# If the file you want to open is not in the present working directory, \n",
    "# then you can include the full filepath in open('fullpath/whatever.txt'.)"
   ]
  },
  {
   "cell_type": "markdown",
   "metadata": {},
   "source": [
    "<h3>Makes a file us_cities.txt and writes the content below to it</h3>"
   ]
  },
  {
   "cell_type": "code",
   "execution_count": 51,
   "metadata": {},
   "outputs": [
    {
     "name": "stdout",
     "output_type": "stream",
     "text": [
      "Overwriting us_cities.txt\n"
     ]
    }
   ],
   "source": [
    "%%file us_cities.txt\n",
    "new york: 8244910\n",
    "los angeles: 3819702\n",
    "chicago: 2707120\n",
    "houston: 2145146\n",
    "philadelphia: 1536471\n",
    "phoenix: 1469471\n",
    "san antonio: 1359758\n",
    "san diego: 1326179\n",
    "dallas: 1223229\n"
   ]
  },
  {
   "cell_type": "code",
   "execution_count": 54,
   "metadata": {},
   "outputs": [
    {
     "name": "stdout",
     "output_type": "stream",
     "text": [
      "new york: 8244910\n",
      "los angeles: 3819702\n",
      "chicago: 2707120\n",
      "houston: 2145146\n",
      "philadelphia: 1536471\n",
      "phoenix: 1469471\n",
      "san antonio: 1359758\n",
      "san diego: 1326179\n",
      "dallas: 1223229\n",
      "\n"
     ]
    }
   ],
   "source": [
    "f = open('us_cities.txt', 'r')\n",
    "content = f.read()\n",
    "f.close()\n",
    "print(content)"
   ]
  },
  {
   "cell_type": "markdown",
   "metadata": {},
   "source": [
    "<h3>If we wanted to make it more readable without manually<br>putting in a thousand commas and capital letters<br>we could automate it in python<br>and then save it to another file</h3>"
   ]
  },
  {
   "cell_type": "code",
   "execution_count": 59,
   "metadata": {},
   "outputs": [
    {
     "name": "stdout",
     "output_type": "stream",
     "text": [
      "New York             8,244,910\n",
      "Los Angeles          3,819,702\n",
      "Chicago              2,707,120\n",
      "Houston              2,145,146\n",
      "Philadelphia         1,536,471\n",
      "Phoenix              1,469,471\n",
      "San Antonio          1,359,758\n",
      "San Diego            1,326,179\n",
      "Dallas               1,223,229\n"
     ]
    }
   ],
   "source": [
    "data_file = open('us_cities.txt', 'r')\n",
    "revised_file = open('formatted_us_cities.txt', 'w')\n",
    "for line in data_file:\n",
    "    city, population = line.split(':') # Touple unpacking like we did earlier\n",
    "    city = city.title()                #captialize city names\n",
    "    population = f'{int(population):,}'\n",
    "    print(city.ljust(15) + population.rjust(15))\n",
    "    revised_file.write(city.ljust(15) + population.rjust(15) + '\\n')\n",
    "data_file.close()\n",
    "revised_file.close()\n",
    "    "
   ]
  },
  {
   "cell_type": "code",
   "execution_count": 61,
   "metadata": {},
   "outputs": [
    {
     "name": "stdout",
     "output_type": "stream",
     "text": [
      "New York             8,244,910\n",
      "Los Angeles          3,819,702\n",
      "Chicago              2,707,120\n",
      "Houston              2,145,146\n",
      "Philadelphia         1,536,471\n",
      "Phoenix              1,469,471\n",
      "San Antonio          1,359,758\n",
      "San Diego            1,326,179\n",
      "Dallas               1,223,229\n",
      "\n"
     ]
    }
   ],
   "source": [
    "f = open('formatted_us_cities.txt', 'r')\n",
    "content = f.read()\n",
    "f.close()\n",
    "print(content)"
   ]
  },
  {
   "cell_type": "markdown",
   "metadata": {},
   "source": [
    "<h3>Python is really good at looping without explicit indices<br>It also has a few cool tools to make handling loops easier</h3>"
   ]
  },
  {
   "cell_type": "code",
   "execution_count": 68,
   "metadata": {},
   "outputs": [
    {
     "name": "stdout",
     "output_type": "stream",
     "text": [
      "The capital of Japan is Tokyo\n",
      "The capital of South Korea is Seoul\n",
      "The capital of China is Beijing\n"
     ]
    }
   ],
   "source": [
    "# zip steps through two lists like a zipper\n",
    "country = ('Japan', 'South Korea', 'China')\n",
    "capital = ('Tokyo', 'Seoul', 'Beijing')\n",
    "for country, capital in zip(country, capital):\n",
    "    print(f'The capital of {country} is {capital}')\n",
    "    \n",
    "# Beware   if you loop with i you end up with undesirable results"
   ]
  },
  {
   "cell_type": "markdown",
   "metadata": {},
   "source": [
    "<h3>You can also make dictionaries with zip</h3>"
   ]
  },
  {
   "cell_type": "code",
   "execution_count": 72,
   "metadata": {},
   "outputs": [
    {
     "name": "stdout",
     "output_type": "stream",
     "text": [
      "{'George': 'cat', 'John': 'human'}\n"
     ]
    }
   ],
   "source": [
    "names = ['George', 'John']\n",
    "species = ['cat', 'human']\n",
    "index = dict(zip(names, species))\n",
    "print(index)\n"
   ]
  },
  {
   "cell_type": "markdown",
   "metadata": {},
   "source": [
    "<h3>To get the index from a list, use enumerate()<br>In the for loop it returns the index first and then the letter<br>Trust me, I switched place and letter around</h3>"
   ]
  },
  {
   "cell_type": "code",
   "execution_count": 77,
   "metadata": {},
   "outputs": [
    {
     "name": "stdout",
     "output_type": "stream",
     "text": [
      "Letter 1 in the alphabet is a\n",
      "Letter 2 in the alphabet is b\n",
      "Letter 3 in the alphabet is c\n",
      "Letter 4 in the alphabet is d\n"
     ]
    }
   ],
   "source": [
    "list = ['a', 'b', 'c', 'd']\n",
    "for place, letter in enumerate(list):\n",
    "    print(f'Letter {place+1} in the alphabet is {letter}')"
   ]
  },
  {
   "cell_type": "markdown",
   "metadata": {},
   "source": [
    "<h3>Note: with python logic empty strings and sequences evaluate to false<br>You can also chain equalities</h3>"
   ]
  },
  {
   "cell_type": "code",
   "execution_count": 87,
   "metadata": {},
   "outputs": [
    {
     "name": "stdout",
     "output_type": "stream",
     "text": [
      "1\n",
      "a\n",
      "f\n",
      "False\n",
      "True\n"
     ]
    }
   ],
   "source": [
    "# Can also use logical operators and, or, and not\n",
    "\n",
    "if 1 < 2 < 3:\n",
    "    print(1)\n",
    "if []:\n",
    "    print(\"empty\")\n",
    "if ['a']:\n",
    "    print('a')\n",
    "    \n",
    "    \n",
    "if 1<2 and 'g' in 'foo':\n",
    "    print('g')\n",
    "if 1<2 and 'f' in 'foo':\n",
    "    print('f')\n",
    "print(not True)\n",
    "print(not not True)\n",
    "\n",
    "\n"
   ]
  },
  {
   "cell_type": "code",
   "execution_count": 88,
   "metadata": {},
   "outputs": [
    {
     "name": "stdout",
     "output_type": "stream",
     "text": [
      "True\n",
      "False\n"
     ]
    }
   ],
   "source": [
    "bools = False, True, True\n",
    "print(any(bools))\n",
    "print(all(bools))"
   ]
  },
  {
   "cell_type": "markdown",
   "metadata": {},
   "source": [
    "<h3>Python docstrings are great tools for long pieces of code<br>And the question mark (and double question mark)<br>Operators are extremely useful</h3>"
   ]
  },
  {
   "cell_type": "code",
   "execution_count": 93,
   "metadata": {},
   "outputs": [
    {
     "name": "stdout",
     "output_type": "stream",
     "text": [
      "4\n"
     ]
    }
   ],
   "source": [
    "def f(x):\n",
    "    \"\"\"\n",
    "    This function returns the square of the input\n",
    "    \"\"\"\n",
    "    return x**2\n",
    "\n",
    "\n",
    "print(f(2))\n",
    "f?"
   ]
  },
  {
   "cell_type": "code",
   "execution_count": 94,
   "metadata": {},
   "outputs": [
    {
     "name": "stdout",
     "output_type": "stream",
     "text": [
      "2\n"
     ]
    }
   ],
   "source": [
    "def g(n):\n",
    "    \"\"\"\n",
    "    This function returns the number you put into it\n",
    "    \"\"\"\n",
    "    return n\n",
    "\n",
    "\n",
    "print(g(2))\n",
    "g??"
   ]
  },
  {
   "cell_type": "markdown",
   "metadata": {},
   "source": [
    "<h3>Onto the lambda operator, which is used to create anonymous (unnamed) functions</h3>"
   ]
  },
  {
   "cell_type": "code",
   "execution_count": 102,
   "metadata": {},
   "outputs": [
    {
     "data": {
      "text/plain": [
       "(4.0, 4.440892098500626e-14)"
      ]
     },
     "execution_count": 102,
     "metadata": {},
     "output_type": "execute_result"
    }
   ],
   "source": [
    "def f(x):\n",
    "    return x**3\n",
    "#is the same as\n",
    "lambda g: g**3\n",
    "\n",
    "#Use case:\n",
    "# To take the integral from 0 to 2 of x^3 we can use a \n",
    "# scipy function named quad(f, a, b)\n",
    "# f = function, a = lower bound, b = upper bound\n",
    "\n",
    "from scipy.integrate import quad\n",
    "\n",
    "quad(lambda i: i**3, 0, 2)\n"
   ]
  },
  {
   "cell_type": "markdown",
   "metadata": {},
   "source": [
    "<h3>keyword arguments are arguments in a function with syntax akin to label in matplotlib.pyplot's plot function</h3><p>plt.plot(x, label = \"whatever\"<br>\"label\" is a keyword. What it does is not determined by what order it is called in<br>Positional arguments change what they do depending on where they are ex:<br><br>plt.plot(x, 'b-', label = 'foo') != plt.plot('b-', x, label - 'foo')</p>"
   ]
  },
  {
   "cell_type": "markdown",
   "metadata": {},
   "source": [
    "<h3>We can make our own keyword arguments in functions. The initialized value we use in our function is what is used if the function call supplies no values</h3>"
   ]
  },
  {
   "cell_type": "code",
   "execution_count": 112,
   "metadata": {},
   "outputs": [
    {
     "name": "stdout",
     "output_type": "stream",
     "text": [
      "Uninitialized a and b yeilds: 3\n",
      "Initialized a and b yeilds: 12\n",
      "will apparently work, but order matters: 12\n"
     ]
    }
   ],
   "source": [
    "def f(x, a=1, b=1):\n",
    "    \"\"\"\n",
    "    This returns x + a*b\n",
    "    \"\"\"\n",
    "    return x + a*b\n",
    "\n",
    "print(\"Uninitialized a and b yeilds: \" + str(f(2)))\n",
    "print(\"Initialized a and b yeilds: \" + str(f(2, a=5, b=2)))\n",
    "print(\"will apparently work, but order matters: \" + str(f(2, 5, 2)))"
   ]
  },
  {
   "cell_type": "markdown",
   "metadata": {},
   "source": [
    "<h3>The Zen of Python</h3>"
   ]
  },
  {
   "cell_type": "code",
   "execution_count": 113,
   "metadata": {},
   "outputs": [
    {
     "name": "stdout",
     "output_type": "stream",
     "text": [
      "The Zen of Python, by Tim Peters\n",
      "\n",
      "Beautiful is better than ugly.\n",
      "Explicit is better than implicit.\n",
      "Simple is better than complex.\n",
      "Complex is better than complicated.\n",
      "Flat is better than nested.\n",
      "Sparse is better than dense.\n",
      "Readability counts.\n",
      "Special cases aren't special enough to break the rules.\n",
      "Although practicality beats purity.\n",
      "Errors should never pass silently.\n",
      "Unless explicitly silenced.\n",
      "In the face of ambiguity, refuse the temptation to guess.\n",
      "There should be one-- and preferably only one --obvious way to do it.\n",
      "Although that way may not be obvious at first unless you're Dutch.\n",
      "Now is better than never.\n",
      "Although never is often better than *right* now.\n",
      "If the implementation is hard to explain, it's a bad idea.\n",
      "If the implementation is easy to explain, it may be a good idea.\n",
      "Namespaces are one honking great idea -- let's do more of those!\n"
     ]
    }
   ],
   "source": [
    "import this"
   ]
  },
  {
   "cell_type": "markdown",
   "metadata": {},
   "source": [
    "\n",
    "\n",
    "\n",
    "\n",
    "\n"
   ]
  },
  {
   "cell_type": "markdown",
   "metadata": {},
   "source": [
    "\n"
   ]
  },
  {
   "cell_type": "markdown",
   "metadata": {},
   "source": [
    "\n",
    "\n"
   ]
  },
  {
   "cell_type": "markdown",
   "metadata": {},
   "source": [
    "<h3>Part 1: Given two numeric lists or tuples x_vals and y_vals of equal length, compute their inner product using zip()<br><br>\n",
    "\n",
    "Part 2: In one line, count the number of even numbers in 0,…,99\n",
    "\n",
    "    Hint: x % 2 returns 0 if x is even, 1 otherwise\n",
    "\n",
    "Part 3: Given pairs = ((2, 5), (4, 2), (9, 8), (12, 10)), count the number of pairs (a, b) such that both a and b are even</h3>"
   ]
  },
  {
   "cell_type": "code",
   "execution_count": 129,
   "metadata": {},
   "outputs": [
    {
     "name": "stdout",
     "output_type": "stream",
     "text": [
      "[1, 4, 9, 16, 25]\n",
      "55\n",
      "55\n"
     ]
    }
   ],
   "source": [
    "x = [1,2,3,4,5]\n",
    "y = [1,2,3,4,5]\n",
    "answer = []\n",
    "dotProduct = 0\n",
    "for val1, val2 in zip(x,y):\n",
    "    answer.append(val1 * val2)\n",
    "    dotProduct += val1*val2\n",
    "    \n",
    "print(answer)\n",
    "print(dotProduct)\n",
    "print(sum([v1*v2 for v1,v2 in zip(x,y)]))"
   ]
  },
  {
   "cell_type": "code",
   "execution_count": 125,
   "metadata": {},
   "outputs": [
    {
     "data": {
      "text/plain": [
       "50"
      ]
     },
     "execution_count": 125,
     "metadata": {},
     "output_type": "execute_result"
    }
   ],
   "source": [
    "sum([x % 2 ==0 for x in range(0,99)])"
   ]
  },
  {
   "cell_type": "code",
   "execution_count": 151,
   "metadata": {},
   "outputs": [
    {
     "name": "stdout",
     "output_type": "stream",
     "text": [
      "(2, 5)\n",
      "(4, 2)\n",
      "(9, 8)\n",
      "(12, 10)\n",
      "(2, 2)\n",
      "3\n",
      "3\n"
     ]
    }
   ],
   "source": [
    "pairs = ((2,5), (4,2), (9,8), (12,10), (2,2))\n",
    "evens = 0\n",
    "for items in pairs:\n",
    "    print(items)\n",
    "    x, y = items\n",
    "    if((x+y) % 2 == 0):\n",
    "        evens += 1\n",
    "print(evens)\n",
    "\n",
    "print(sum([a % 2 == 0 and b % 2 == 0 for a, b in pairs]))"
   ]
  },
  {
   "cell_type": "markdown",
   "metadata": {},
   "source": [
    "<h3>Consider the polynomial</h3>\n",
    "\n",
    "<p>p(x)=a0+a1x+a2x2+⋯anxn = ∑aixi     (1)</p>\n",
    "\n",
    "<h3>Write a function p such that p(x, coeff) that computes the value in (1) given a point x and a list of coefficients coeff\n",
    "\n",
    "Try to use enumerate() in your loop</h3>"
   ]
  },
  {
   "cell_type": "code",
   "execution_count": 1,
   "metadata": {},
   "outputs": [
    {
     "name": "stdout",
     "output_type": "stream",
     "text": [
      "31\n"
     ]
    }
   ],
   "source": [
    "def p(x, coeff):\n",
    "    result = 0\n",
    "    for n, a in enumerate(coeff):\n",
    "        result += a*(x**n)\n",
    "    return result\n",
    "\n",
    "list = [1,1,1,1,1]\n",
    "g = 2\n",
    "\n",
    "print(p(2,list))"
   ]
  },
  {
   "cell_type": "markdown",
   "metadata": {},
   "source": [
    "<h3>Write a function that takes a string as an argument and returns the number of capital letters in the string</h3>\n",
    "<br>\n",
    "<h3>Hint: 'foo'.upper() returns 'FOO'</h3>"
   ]
  },
  {
   "cell_type": "code",
   "execution_count": 11,
   "metadata": {},
   "outputs": [
    {
     "name": "stdout",
     "output_type": "stream",
     "text": [
      "8\n"
     ]
    }
   ],
   "source": [
    "def countCap(input):\n",
    "    count = 0\n",
    "    for index, letter in enumerate(input):\n",
    "        if((letter.upper() == input[index]) and (input[index] != ' ')):\n",
    "            count += 1\n",
    "    return count\n",
    "\n",
    "\n",
    "message = 'hElLoOoOo  ThErEE'   #8 caps, two spaces\n",
    "print(countCap(message))"
   ]
  },
  {
   "cell_type": "markdown",
   "metadata": {},
   "source": [
    "<h3>Write a function that takes two sequences seq_a and seq_b as arguments and returns True if every element in seq_a is also an element of seq_b, else False\n",
    "\n",
    "    By “sequence” we mean a list, a tuple or a string\n",
    "    Do the exercise without using sets and set methods</h3>\n"
   ]
  },
  {
   "cell_type": "code",
   "execution_count": 27,
   "metadata": {},
   "outputs": [
    {
     "name": "stdout",
     "output_type": "stream",
     "text": [
      "False\n"
     ]
    }
   ],
   "source": [
    "def detEq(seq_a, seq_b):\n",
    "    shared = False\n",
    "    for elementA in seq_a:\n",
    "        for elementB in seq_b:\n",
    "            if elementA == elementB:\n",
    "                shared = True\n",
    "        if shared == False:\n",
    "            return False\n",
    "        shared = False\n",
    "    return True\n",
    "        \n",
    "a = [1,2,3,4,4,6,8,12]\n",
    "b = [1,2,3,4,5,6,8,9,10,11]\n",
    "\n",
    "print(detEq(a,b))"
   ]
  },
  {
   "cell_type": "code",
   "execution_count": null,
   "metadata": {},
   "outputs": [],
   "source": []
  }
 ],
 "metadata": {
  "kernelspec": {
   "display_name": "Python 3",
   "language": "python",
   "name": "python3"
  },
  "language_info": {
   "codemirror_mode": {
    "name": "ipython",
    "version": 3
   },
   "file_extension": ".py",
   "mimetype": "text/x-python",
   "name": "python",
   "nbconvert_exporter": "python",
   "pygments_lexer": "ipython3",
   "version": "3.7.3"
  }
 },
 "nbformat": 4,
 "nbformat_minor": 2
}
