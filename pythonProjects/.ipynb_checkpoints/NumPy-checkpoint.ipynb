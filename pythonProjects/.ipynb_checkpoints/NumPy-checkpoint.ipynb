{
 "cells": [
  {
   "cell_type": "markdown",
   "metadata": {},
   "source": [
    "<p>NumPy was developed to perform fast array processing. If we want to create an array of 1million random draws for a uniform distribution and compute the mean and it was done in pure python, it would be hugely slower than a C or Fortran program. Loops o ver python data types like lists carry significant overhead and C anf Fortran contain a lot of type information which can be used for optimization. NumPy generates optimized snippets of machine code compiled from C to speed up specific operations past what python alone could handle. Similar in spirit to Matlab. NumPy is great for operations that are naturally vectorized</p>"
   ]
  },
  {
   "cell_type": "markdown",
   "metadata": {},
   "source": [
    "<h3>NumPy Arrays</h3>"
   ]
  },
  {
   "cell_type": "code",
   "execution_count": 7,
   "metadata": {},
   "outputs": [
    {
     "name": "stdout",
     "output_type": "stream",
     "text": [
      "[0. 0. 0.]\n",
      "<class 'numpy.ndarray'>\n",
      "<class 'numpy.float64'>\n",
      "<class 'numpy.int64'>\n"
     ]
    }
   ],
   "source": [
    "# NumPy formally defines an array data type called numpy.ndarray\n",
    "# Similar to native python lists except you can only use one data type and it must be one of the dtypes provided by NumPy\n",
    "import numpy as np\n",
    "\n",
    "# np.zeros(n) generates a list of n zeros\n",
    "a = np.zeros(3)\n",
    "print(a)\n",
    "print(type(a))\n",
    "\n",
    "# The default data type on modern machines is float64\n",
    "\n",
    "print(type(a[0]))\n",
    "\n",
    "# We can specify the data type when we initialize the array\n",
    "\n",
    "b = np.zeros(3, dtype = int)\n",
    "\n",
    "print(type(b[0]))"
   ]
  },
  {
   "cell_type": "markdown",
   "metadata": {},
   "source": [
    "<h3>ndarrays can also have a shape</h3>"
   ]
  },
  {
   "cell_type": "code",
   "execution_count": 16,
   "metadata": {},
   "outputs": [
    {
     "name": "stdout",
     "output_type": "stream",
     "text": [
      "(10,)\n",
      "\n",
      "\n",
      "[[0.]\n",
      " [0.]\n",
      " [0.]\n",
      " [0.]\n",
      " [0.]\n",
      " [0.]\n",
      " [0.]\n",
      " [0.]\n",
      " [0.]\n",
      " [0.]]\n",
      "\n",
      "\n",
      "[[0. 0.]\n",
      " [0. 0.]]\n",
      "\n",
      "\n",
      "[[0. 0. 0.]\n",
      " [0. 0. 0.]\n",
      " [0. 0. 0.]]\n"
     ]
    }
   ],
   "source": [
    "import numpy as np\n",
    "\n",
    "\n",
    "# Here, z is a flat array with no dimension, neither a row nor a column vector\n",
    "# The shape touple has only one element, the length of the array. To give the array a dimension we can change the\n",
    "# shape attribute\n",
    "\n",
    "z = np.zeros(10)\n",
    "print(z.shape)\n",
    "print('\\n')\n",
    "\n",
    "y = np.zeros(10)\n",
    "y.shape = (10,1)    #rows,columns\n",
    "print(y)\n",
    "print('\\n')\n",
    "\n",
    "x = np.zeros(4)\n",
    "x.shape = (2,2)\n",
    "print(x)\n",
    "print('\\n')\n",
    "\n",
    "w = np.zeros((3,3)) #Shape can also be specified with a touple when initializing the array\n",
    "print(w)"
   ]
  },
  {
   "cell_type": "code",
   "execution_count": 27,
   "metadata": {},
   "outputs": [
    {
     "name": "stdout",
     "output_type": "stream",
     "text": [
      "[[1. 1.]\n",
      " [1. 1.]]\n",
      "\n",
      "\n",
      "[[0. 0. 0.]\n",
      " [0. 0. 0.]\n",
      " [0. 0. 0.]]\n",
      "\n",
      "\n",
      "[2.  2.5 3.  3.5 4. ]\n",
      "\n",
      "\n",
      "[[1. 0.]\n",
      " [0. 1.]]\n",
      "\n",
      "\n",
      "[10 20]\n",
      "<class 'numpy.ndarray'>\n",
      "[10. 20.]\n",
      "<class 'numpy.ndarray'>\n",
      "\n",
      "\n",
      "[[10 20]\n",
      " [30 40]]\n"
     ]
    }
   ],
   "source": [
    "# np.ones() creates an array populated by what you would expect\n",
    "z = np.ones((2,2))\n",
    "print(z)\n",
    "print('\\n')\n",
    "\n",
    "# np.empty creates an array which can later be populated, the numbers that are output initially are garbage values\n",
    "y = np.empty((3,3))\n",
    "print(y)\n",
    "print('\\n')\n",
    "\n",
    "# To set up a grid of evenly spaced numbers use np.linspace\n",
    "\n",
    "x = np.linspace(2,4,5)   #from 2 to 4 with 5 elements\n",
    "print(x)\n",
    "print('\\n')\n",
    "\n",
    "# To create an identity matrix use np.identity or np.eye\n",
    "w = np.identity(2)\n",
    "print(w)\n",
    "print('\\n')\n",
    "\n",
    "# NumPy arrays can also be created from python lists, touples, etc.. using np.array\n",
    "v = np.array([10,20])    # ndarray from a python list\n",
    "print(v)\n",
    "print(type(v))\n",
    "\n",
    "u = np.array((10,20), dtype = float)    # here, 'float' is equivalent to float64\n",
    "print(u)\n",
    "print(type(u))\n",
    "print('\\n')\n",
    "\n",
    "t = np.array([[10,20], [30,40]])    #here, a 2D array is created from a list of lists\n",
    "print(t)"
   ]
  }
 ],
 "metadata": {
  "kernelspec": {
   "display_name": "Python 3",
   "language": "python",
   "name": "python3"
  },
  "language_info": {
   "codemirror_mode": {
    "name": "ipython",
    "version": 3
   },
   "file_extension": ".py",
   "mimetype": "text/x-python",
   "name": "python",
   "nbconvert_exporter": "python",
   "pygments_lexer": "ipython3",
   "version": "3.7.3"
  }
 },
 "nbformat": 4,
 "nbformat_minor": 2
}
