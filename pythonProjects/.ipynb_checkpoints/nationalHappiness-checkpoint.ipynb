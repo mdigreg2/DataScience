{
 "cells": [
  {
   "cell_type": "markdown",
   "metadata": {},
   "source": [
    "This pulls happiness and GDP data and plots them / prepares them for analysis. The happiness data has to be modified because they jammed 8 different stats into one doc and I didn't catch it until I finished"
   ]
  },
  {
   "cell_type": "code",
   "execution_count": 61,
   "metadata": {},
   "outputs": [
    {
     "data": {
      "text/plain": [
       "<matplotlib.collections.PathCollection at 0x7fa7e0a74d68>"
      ]
     },
     "execution_count": 61,
     "metadata": {},
     "output_type": "execute_result"
    },
    {
     "data": {
      "image/png": "[encoded data removed]",
      "text/plain": [
       "<Figure size 432x288 with 1 Axes>"
      ]
     },
     "metadata": {
      "needs_background": "light"
     },
     "output_type": "display_data"
    }
   ],
   "source": [
    "import matplotlib\n",
    "import numpy as np\n",
    "import pandas as pd\n",
    "import matplotlib.pyplot as pt\n",
    "import sklearn.linear_model as sklin\n",
    "%matplotlib inline\n",
    "\n",
    "def prepare_coordinates(oced, gdp):\n",
    "#     list = np.array(min(len(oced), len(gdp)))\n",
    "    list = []\n",
    "    x = oced['Value']\n",
    "    y = gdp['2015']\n",
    "    for index, i in enumerate(range(min(len(x), len(y)))):\n",
    "        list.append([x[index],y[index]])\n",
    "#         list[index] = ([[x[index], y[index]]])\n",
    "    return list\n",
    "\n",
    "def shrink_to_fit(oced, gdp):\n",
    "    x = oced['Value']\n",
    "    y = gdp['2015']\n",
    "    X = []\n",
    "    Y = []\n",
    "    for index, i in enumerate(range(min(len(x),len(y)))):\n",
    "        X.append(x[index])\n",
    "        Y.append(y[index])\n",
    "    return X, Y\n",
    "\n",
    "oced_bli = pd.read_csv(\"../data/oced-bli.csv\")\n",
    "oced_bli = oced_bli[['Country', 'Value']]\n",
    "gdp_info = pd.read_csv(\"../data/gdp_per_capita.csv\", encoding = 'latin1')\n",
    "gdp_info = gdp_info[['Country', '2015']]\n",
    "\n",
    "values = prepare_coordinates(oced_bli, gdp_info)\n",
    "# y,x = zip(*values)\n",
    "# values.plot()\n",
    "y,x = shrink_to_fit(oced_bli, gdp_info)\n",
    "\n",
    "fig, ax = pt.subplots()\n",
    "ax.scatter(x, y)\n"
   ]
  },
  {
   "cell_type": "markdown",
   "metadata": {},
   "source": [
    "This will be a simple machine learning algorithm to predict the happiness of nations based on GDP per capita\n",
    "It will use k-nearest neighbor\n",
    "It is based off of an example from \"Hands On Machine Learning with Scikit-Learn and Tensorflow\" by Aurelien Geron"
   ]
  }
 ],
 "metadata": {
  "kernelspec": {
   "display_name": "Python 3",
   "language": "python",
   "name": "python3"
  },
  "language_info": {
   "codemirror_mode": {
    "name": "ipython",
    "version": 3
   },
   "file_extension": ".py",
   "mimetype": "text/x-python",
   "name": "python",
   "nbconvert_exporter": "python",
   "pygments_lexer": "ipython3",
   "version": "3.7.3"
  }
 },
 "nbformat": 4,
 "nbformat_minor": 2
}
