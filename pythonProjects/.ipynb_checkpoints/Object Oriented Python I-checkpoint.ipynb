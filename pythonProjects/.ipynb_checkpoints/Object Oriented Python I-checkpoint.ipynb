{
 "cells": [
  {
   "cell_type": "markdown",
   "metadata": {},
   "source": [
    "<h3>Every object in python has an identity, this is actully its memory address. Additionally, everything in python is an object</h3>"
   ]
  },
  {
   "cell_type": "code",
   "execution_count": 1,
   "metadata": {},
   "outputs": [
    {
     "name": "stdout",
     "output_type": "stream",
     "text": [
      "140412212675712\n",
      "140412212675640\n"
     ]
    }
   ],
   "source": [
    "x = 2.5\n",
    "y = 2.5\n",
    "print(id(x))\n",
    "print(id(y))"
   ]
  },
  {
   "cell_type": "markdown",
   "metadata": {},
   "source": [
    "<h3>We can check if a method is callable for a specific object by using the callable() function</h3>"
   ]
  },
  {
   "cell_type": "code",
   "execution_count": 4,
   "metadata": {},
   "outputs": [
    {
     "name": "stdout",
     "output_type": "stream",
     "text": [
      "True\n",
      "False\n"
     ]
    }
   ],
   "source": [
    "x = [1,2]\n",
    "print(callable(x.append))\n",
    "print(callable(x.__doc__))"
   ]
  },
  {
   "cell_type": "markdown",
   "metadata": {},
   "source": [
    "<h3>Many python methods are actually hidden with nice syntax</h3>"
   ]
  },
  {
   "cell_type": "code",
   "execution_count": 5,
   "metadata": {},
   "outputs": [
    {
     "name": "stdout",
     "output_type": "stream",
     "text": [
      "['aa', 'b']\n"
     ]
    }
   ],
   "source": [
    "x = ['a', 'b']\n",
    "# x[0] = 'aa'\n",
    "x.__setitem__(0,'aa')\n",
    "print(x)"
   ]
  },
  {
   "cell_type": "markdown",
   "metadata": {},
   "source": [
    "<h3>Once something has been read into memory, it is made an object in python</h3><h3>This includes fuctions, modules, files opened, integers, etc...</h3><h3>Fuction objects have methods of their own</h3>"
   ]
  },
  {
   "cell_type": "code",
   "execution_count": 19,
   "metadata": {},
   "outputs": [
    {
     "name": "stdout",
     "output_type": "stream",
     "text": [
      "<function f at 0x7fb435fd67b8>\n",
      "<class 'function'>\n",
      "140411976640440\n",
      "f\n",
      "9\n",
      "<built-in method __dir__ of function object at 0x7fb435fd67b8>\n"
     ]
    },
    {
     "data": {
      "text/plain": [
       "<function __main__.f(n)>"
      ]
     },
     "execution_count": 19,
     "metadata": {},
     "output_type": "execute_result"
    }
   ],
   "source": [
    "def f(n): return n**2\n",
    "\n",
    "print(f)\n",
    "print(type(f))\n",
    "print(id(f))\n",
    "print(f.__name__)\n",
    "print(f.__call__(3))\n",
    "print(f.__dir__)\n",
    "f.__dir__\n",
    "f"
   ]
  },
  {
   "cell_type": "markdown",
   "metadata": {},
   "source": [
    "<h3>Modules loaded into memeory are also treated as objects</h3>"
   ]
  },
  {
   "cell_type": "code",
   "execution_count": 20,
   "metadata": {},
   "outputs": [
    {
     "data": {
      "text/plain": [
       "140412296352456"
      ]
     },
     "execution_count": 20,
     "metadata": {},
     "output_type": "execute_result"
    }
   ],
   "source": [
    "import math\n",
    "\n",
    "id(math)"
   ]
  }
 ],
 "metadata": {
  "kernelspec": {
   "display_name": "Python 3",
   "language": "python",
   "name": "python3"
  },
  "language_info": {
   "codemirror_mode": {
    "name": "ipython",
    "version": 3
   },
   "file_extension": ".py",
   "mimetype": "text/x-python",
   "name": "python",
   "nbconvert_exporter": "python",
   "pygments_lexer": "ipython3",
   "version": "3.7.3"
  }
 },
 "nbformat": 4,
 "nbformat_minor": 2
}
