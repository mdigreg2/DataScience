{
 "cells": [
  {
   "cell_type": "markdown",
   "metadata": {},
   "source": [
    "<h3>This is just a quick set of exercises to get used to OOP in Python after swicthing from C++</h3>"
   ]
  },
  {
   "cell_type": "code",
   "execution_count": 1,
   "metadata": {},
   "outputs": [],
   "source": [
    "class Employee():\n",
    "    \n",
    "    raise_amt = 1.04\n",
    "    def __init__(self, first, last, pay):\n",
    "        self.first = first\n",
    "        self.last = last\n",
    "        self.pay = pay\n",
    "        self.email = self.generate_email(first, last)\n",
    "        \n",
    "    @staticmethod\n",
    "    def generate_email(first, last):\n",
    "        \"\"\"\n",
    "        This was made a static method because self really doesn't need to be passed into the function for it to work\n",
    "        \n",
    "        \"\"\"\n",
    "       \n",
    "        return '{}.{}'.format(first, last) + '@ourcompany.com'\n",
    "    \n",
    "    \n",
    "    def apply_raise(self):\n",
    "        \"\"\"\n",
    "        This applies a raise to the employee instance it was called from, it takes self as an arg\n",
    "        \"\"\"\n",
    "        self.pay = self.pay*raise_amt\n",
    "        \n",
    "    @classmethod\n",
    "    def set_raise_amt(cls, amt):\n",
    "        \"\"\"\n",
    "        This takes in the class and amount and applies a change to the raise_amt class variable\n",
    "        \"\"\"\n",
    "        cls.raise_amt = amt\n",
    "        \n",
    "\n",
    "emp_1 = Employee('Cody', 'Yersin', 60000)\n"
   ]
  },
  {
   "cell_type": "code",
   "execution_count": 2,
   "metadata": {},
   "outputs": [
    {
     "data": {
      "text/plain": [
       "'Cody.Yersin@ourcompany.com'"
      ]
     },
     "execution_count": 2,
     "metadata": {},
     "output_type": "execute_result"
    }
   ],
   "source": [
    "emp_1.email"
   ]
  },
  {
   "cell_type": "code",
   "execution_count": 3,
   "metadata": {},
   "outputs": [
    {
     "data": {
      "text/plain": [
       "60000"
      ]
     },
     "execution_count": 3,
     "metadata": {},
     "output_type": "execute_result"
    }
   ],
   "source": [
    "emp_1.pay"
   ]
  },
  {
   "cell_type": "code",
   "execution_count": 4,
   "metadata": {},
   "outputs": [],
   "source": [
    "# Employee.generate_email?"
   ]
  },
  {
   "cell_type": "code",
   "execution_count": 5,
   "metadata": {},
   "outputs": [
    {
     "data": {
      "text/plain": [
       "'Daniel.Kilgore@ourcompany.com'"
      ]
     },
     "execution_count": 5,
     "metadata": {},
     "output_type": "execute_result"
    }
   ],
   "source": [
    "emp_2 = Employee('Daniel', 'Kilgore', 70000)\n",
    "emp_2.email"
   ]
  },
  {
   "cell_type": "code",
   "execution_count": 6,
   "metadata": {},
   "outputs": [
    {
     "name": "stdout",
     "output_type": "stream",
     "text": [
      "1.04\n",
      "1.04\n",
      "1.04\n"
     ]
    }
   ],
   "source": [
    "print(Employee.raise_amt)\n",
    "print(emp_1.raise_amt)\n",
    "print(emp_2.raise_amt)"
   ]
  },
  {
   "cell_type": "code",
   "execution_count": 7,
   "metadata": {},
   "outputs": [],
   "source": [
    "Employee.set_raise_amt(1.07)"
   ]
  },
  {
   "cell_type": "markdown",
   "metadata": {},
   "source": [
    "Notice how the rause amount for all instances of employee was changed when Employee.set_raise_amt was called and when it was changed through an instance (emp_1 in this case)"
   ]
  },
  {
   "cell_type": "code",
   "execution_count": 8,
   "metadata": {},
   "outputs": [
    {
     "name": "stdout",
     "output_type": "stream",
     "text": [
      "1.07\n",
      "1.07\n",
      "1.07\n"
     ]
    }
   ],
   "source": [
    "print(Employee.raise_amt)\n",
    "print(emp_1.raise_amt)\n",
    "print(emp_2.raise_amt)"
   ]
  },
  {
   "cell_type": "code",
   "execution_count": 9,
   "metadata": {},
   "outputs": [],
   "source": [
    "emp_1.set_raise_amt(1.1)"
   ]
  },
  {
   "cell_type": "code",
   "execution_count": 10,
   "metadata": {},
   "outputs": [
    {
     "name": "stdout",
     "output_type": "stream",
     "text": [
      "1.1\n",
      "1.1\n",
      "1.1\n"
     ]
    }
   ],
   "source": [
    "print(Employee.raise_amt)\n",
    "print(emp_1.raise_amt)\n",
    "print(emp_2.raise_amt)"
   ]
  },
  {
   "cell_type": "markdown",
   "metadata": {},
   "source": [
    "<h3>Classmethods can also be used as alternative constructors, I will demonstrate this by writing code to separate strings into employee information using a class method. I also will demonstrate inheritance by making another class with this functionality which inherits from the Employee class</h3>"
   ]
  },
  {
   "cell_type": "code",
   "execution_count": 11,
   "metadata": {},
   "outputs": [],
   "source": [
    "class Developer(Employee):\n",
    "    def __init__(self, first, last, pay, prog_lang):\n",
    "        super().__init__(first, last, pay)   #super is used as a clean way of borrowing from the parent class's init method\n",
    "        self.prog_lang = prog_lang\n",
    "    \n",
    "    @classmethod\n",
    "    def from_string_ds(cls, info):\n",
    "        \"\"\"\n",
    "        This will generate an employee from a dash seperated string ex: Cody-Yersin-60000-Ruby\n",
    "        \"\"\"\n",
    "        first, last, pay, prog_lang = info.split('-')\n",
    "        return cls(first, last, pay, prog_lang)\n",
    "    \n",
    "    \n",
    "info_1 = \"Tyler-Bryk-100000-Swift\"\n",
    "dev_1 = Developer.from_string_ds(info_1)\n"
   ]
  },
  {
   "cell_type": "code",
   "execution_count": 12,
   "metadata": {},
   "outputs": [
    {
     "data": {
      "text/plain": [
       "'Tyler.Bryk@ourcompany.com'"
      ]
     },
     "execution_count": 12,
     "metadata": {},
     "output_type": "execute_result"
    }
   ],
   "source": [
    "dev_1.email"
   ]
  },
  {
   "cell_type": "code",
   "execution_count": 13,
   "metadata": {},
   "outputs": [
    {
     "data": {
      "text/plain": [
       "'Swift'"
      ]
     },
     "execution_count": 13,
     "metadata": {},
     "output_type": "execute_result"
    }
   ],
   "source": [
    "dev_1.prog_lang"
   ]
  }
 ],
 "metadata": {
  "kernelspec": {
   "display_name": "Python 3",
   "language": "python",
   "name": "python3"
  },
  "language_info": {
   "codemirror_mode": {
    "name": "ipython",
    "version": 3
   },
   "file_extension": ".py",
   "mimetype": "text/x-python",
   "name": "python",
   "nbconvert_exporter": "python",
   "pygments_lexer": "ipython3",
   "version": "3.7.3"
  }
 },
 "nbformat": 4,
 "nbformat_minor": 2
}
